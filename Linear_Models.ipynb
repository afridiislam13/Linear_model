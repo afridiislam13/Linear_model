{
 "cells": [
  {
   "cell_type": "code",
   "execution_count": 1,
   "id": "fbe144b1",
   "metadata": {},
   "outputs": [],
   "source": [
    "import pandas as pd\n",
    "import numpy as np\n",
    "import seaborn as sns\n",
    "import matplotlib.pyplot as plt\n",
    "from sklearn.model_selection import train_test_split\n",
    "from sklearn.linear_model import LinearRegression, Ridge, Lasso\n",
    "from sklearn.metrics import mean_squared_error, mean_absolute_error, r2_score\n",
    "from sklearn.preprocessing import StandardScaler, MinMaxScaler\n"
   ]
  },
  {
   "cell_type": "code",
   "execution_count": 11,
   "id": "b51a5c47",
   "metadata": {},
   "outputs": [
    {
     "name": "stdout",
     "output_type": "stream",
     "text": [
      "<class 'pandas.core.frame.DataFrame'>\n",
      "RangeIndex: 645 entries, 0 to 644\n",
      "Data columns (total 8 columns):\n",
      " #   Column       Non-Null Count  Dtype  \n",
      "---  ------       --------------  -----  \n",
      " 0   Unnamed: 0   645 non-null    int64  \n",
      " 1   Sqft         645 non-null    float64\n",
      " 2   Floor        645 non-null    int64  \n",
      " 3   TotalFloor   645 non-null    int64  \n",
      " 4   Bedroom      645 non-null    int64  \n",
      " 5   Living_Room  645 non-null    int64  \n",
      " 6   Bathroom     645 non-null    int64  \n",
      " 7   Price        645 non-null    int64  \n",
      "dtypes: float64(1), int64(7)\n",
      "memory usage: 40.4 KB\n",
      "None\n",
      "       Unnamed: 0         Sqft       Floor  TotalFloor     Bedroom  \\\n",
      "count  645.000000   645.000000  645.000000  645.000000  645.000000   \n",
      "mean   325.159690  1527.656260    5.939535   10.855814    2.837209   \n",
      "std    187.312152   767.386531    3.884721    4.996208    1.010740   \n",
      "min      1.000000   359.358000    1.000000    1.000000    1.000000   \n",
      "25%    164.000000   925.080000    3.000000    7.000000    2.000000   \n",
      "50%    326.000000  1423.200000    5.000000   12.000000    3.000000   \n",
      "75%    487.000000  1892.856000    8.000000   14.000000    4.000000   \n",
      "max    648.000000  5856.468000   22.000000   38.000000    7.000000   \n",
      "\n",
      "       Living_Room    Bathroom          Price  \n",
      "count   645.000000  645.000000     645.000000  \n",
      "mean      1.813953    1.810853   61986.823256  \n",
      "std       0.462364    0.683574   35635.091007  \n",
      "min       0.000000    0.000000    6100.000000  \n",
      "25%       2.000000    1.000000   39000.000000  \n",
      "50%       2.000000    2.000000   50000.000000  \n",
      "75%       2.000000    2.000000   75000.000000  \n",
      "max       4.000000    5.000000  250000.000000  \n"
     ]
    }
   ],
   "source": [
    "# Load the dataset\n",
    "df = pd.read_csv(\"house_rental_data.csv\")\n",
    "\n",
    "# Explore the dataset\n",
    "print(df.info())\n",
    "print(df.describe())"
   ]
  },
  {
   "cell_type": "code",
   "execution_count": 7,
   "id": "5804b430",
   "metadata": {},
   "outputs": [],
   "source": [
    "# Handle missing values (if any)\n",
    "df = df.dropna()"
   ]
  },
  {
   "cell_type": "code",
   "execution_count": 8,
   "id": "f72bbdb3",
   "metadata": {},
   "outputs": [
    {
     "data": {
      "image/png": "[encoded data removed]",
      "text/plain": [
       "<Figure size 432x288 with 1 Axes>"
      ]
     },
     "metadata": {
      "needs_background": "light"
     },
     "output_type": "display_data"
    }
   ],
   "source": [
    "sns.boxplot(x=df['Price'])\n",
    "plt.show()"
   ]
  },
  {
   "cell_type": "code",
   "execution_count": 12,
   "id": "c824eefa",
   "metadata": {},
   "outputs": [],
   "source": [
    "df = pd.get_dummies(df, columns=['Living_Room'], drop_first=True)\n"
   ]
  },
  {
   "cell_type": "code",
   "execution_count": 13,
   "id": "1641aa21",
   "metadata": {},
   "outputs": [
    {
     "name": "stdout",
     "output_type": "stream",
     "text": [
      "<class 'pandas.core.frame.DataFrame'>\n",
      "RangeIndex: 645 entries, 0 to 644\n",
      "Data columns (total 11 columns):\n",
      " #   Column         Non-Null Count  Dtype  \n",
      "---  ------         --------------  -----  \n",
      " 0   Unnamed: 0     645 non-null    int64  \n",
      " 1   Sqft           645 non-null    float64\n",
      " 2   Floor          645 non-null    int64  \n",
      " 3   TotalFloor     645 non-null    int64  \n",
      " 4   Bedroom        645 non-null    int64  \n",
      " 5   Bathroom       645 non-null    int64  \n",
      " 6   Price          645 non-null    int64  \n",
      " 7   Living_Room_1  645 non-null    uint8  \n",
      " 8   Living_Room_2  645 non-null    uint8  \n",
      " 9   Living_Room_3  645 non-null    uint8  \n",
      " 10  Living_Room_4  645 non-null    uint8  \n",
      "dtypes: float64(1), int64(6), uint8(4)\n",
      "memory usage: 37.9 KB\n",
      "None\n"
     ]
    }
   ],
   "source": [
    "print(df.info())"
   ]
  },
  {
   "cell_type": "code",
   "execution_count": 14,
   "id": "02e96eb9",
   "metadata": {},
   "outputs": [],
   "source": [
    "scaler = StandardScaler()\n",
    "numerical_features = ['Sqft', 'Floor', 'TotalFloor', 'Bedroom', 'Bathroom']\n",
    "df[numerical_features] = scaler.fit_transform(df[numerical_features])\n"
   ]
  },
  {
   "cell_type": "code",
   "execution_count": 15,
   "id": "a972c828",
   "metadata": {},
   "outputs": [
    {
     "name": "stdout",
     "output_type": "stream",
     "text": [
      "   Unnamed: 0      Sqft     Floor  TotalFloor   Bedroom  Bathroom  Price  \\\n",
      "0           1 -0.456393 -1.014897   -0.772347 -0.828956  0.276918  62000   \n",
      "1           2  0.791798 -0.242042   -0.772347  1.151328  0.276918  78000   \n",
      "2           3 -0.507434 -0.242042   -0.772347 -0.828956 -1.187117  58000   \n",
      "3           4 -0.089824 -1.014897   -0.772347  0.161186  0.276918  45000   \n",
      "4           5 -0.730160  1.303669    0.629803  0.161186  0.276918  45000   \n",
      "\n",
      "   Living_Room_1  Living_Room_2  Living_Room_3  Living_Room_4  \n",
      "0              0              1              0              0  \n",
      "1              0              1              0              0  \n",
      "2              0              1              0              0  \n",
      "3              0              1              0              0  \n",
      "4              0              1              0              0  \n"
     ]
    }
   ],
   "source": [
    "# Check the final structure of the DataFrame\n",
    "print(df.head())"
   ]
  },
  {
   "cell_type": "code",
   "execution_count": 16,
   "id": "d8e9192e",
   "metadata": {},
   "outputs": [],
   "source": [
    "# Split the data into features (X) and target variable (y)\n",
    "X = df.drop('Price', axis=1)\n",
    "y = df['Price']"
   ]
  },
  {
   "cell_type": "code",
   "execution_count": 17,
   "id": "4a363f85",
   "metadata": {},
   "outputs": [],
   "source": [
    "# Split the data into training and testing sets\n",
    "X_train, X_test, y_train, y_test = train_test_split(X, y, test_size=0.2, random_state=42)"
   ]
  },
  {
   "cell_type": "code",
   "execution_count": 18,
   "id": "d6a854be",
   "metadata": {},
   "outputs": [
    {
     "data": {
      "text/plain": [
       "LinearRegression()"
      ]
     },
     "execution_count": 18,
     "metadata": {},
     "output_type": "execute_result"
    }
   ],
   "source": [
    "# Train a Linear Regression model\n",
    "model_lr = LinearRegression()\n",
    "model_lr.fit(X_train, y_train)"
   ]
  },
  {
   "cell_type": "code",
   "execution_count": 19,
   "id": "69dfc926",
   "metadata": {},
   "outputs": [],
   "source": [
    "# Evaluate the model\n",
    "y_pred = model_lr.predict(X_test)\n",
    "mse = mean_squared_error(y_test, y_pred)\n",
    "mae = mean_absolute_error(y_test, y_pred)\n",
    "r2 = r2_score(y_test, y_pred)"
   ]
  },
  {
   "cell_type": "code",
   "execution_count": 20,
   "id": "d80596f4",
   "metadata": {},
   "outputs": [
    {
     "name": "stdout",
     "output_type": "stream",
     "text": [
      "Mean Squared Error: 402478148.32\n",
      "Mean Absolute Error: 13434.55\n",
      "R-squared: 0.72\n"
     ]
    }
   ],
   "source": [
    "print(f'Mean Squared Error: {mse:.2f}')\n",
    "print(f'Mean Absolute Error: {mae:.2f}')\n",
    "print(f'R-squared: {r2:.2f}')"
   ]
  },
  {
   "cell_type": "code",
   "execution_count": 21,
   "id": "67aabd42",
   "metadata": {},
   "outputs": [
    {
     "data": {
      "image/png": "[encoded data removed]",
      "text/plain": [
       "<Figure size 432x288 with 1 Axes>"
      ]
     },
     "metadata": {
      "needs_background": "light"
     },
     "output_type": "display_data"
    }
   ],
   "source": [
    "# Visualize predictions against actual values\n",
    "plt.scatter(y_test, y_pred)\n",
    "plt.xlabel(\"Actual Price\")\n",
    "plt.ylabel(\"Predicted Price\")\n",
    "plt.title(\"Linear Regression: Actual vs Predicted Price\")\n",
    "plt.show()"
   ]
  },
  {
   "cell_type": "code",
   "execution_count": null,
   "id": "b2413ab7",
   "metadata": {},
   "outputs": [],
   "source": []
  }
 ],
 "metadata": {
  "kernelspec": {
   "display_name": "Python 3 (ipykernel)",
   "language": "python",
   "name": "python3"
  },
  "language_info": {
   "codemirror_mode": {
    "name": "ipython",
    "version": 3
   },
   "file_extension": ".py",
   "mimetype": "text/x-python",
   "name": "python",
   "nbconvert_exporter": "python",
   "pygments_lexer": "ipython3",
   "version": "3.9.12"
  }
 },
 "nbformat": 4,
 "nbformat_minor": 5
}
